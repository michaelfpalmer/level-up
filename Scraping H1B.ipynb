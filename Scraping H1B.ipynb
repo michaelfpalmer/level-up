{
 "cells": [
  {
   "cell_type": "code",
   "execution_count": 43,
   "metadata": {},
   "outputs": [],
   "source": [
    "from selenium import webdriver\n",
    "from selenium.webdriver.common.keys import Keys\n",
    "from selenium.webdriver.common.by import By\n",
    "import time"
   ]
  },
  {
   "cell_type": "code",
   "execution_count": 44,
   "metadata": {},
   "outputs": [],
   "source": [
    "browser = webdriver.Chrome()\n"
   ]
  },
  {
   "cell_type": "code",
   "execution_count": 45,
   "metadata": {},
   "outputs": [],
   "source": [
    "attributes={\n",
    "    'Employer': [],\n",
    "    'Job Title': [],\n",
    "    'Base Salary': [],\n",
    "    'Location': [],\n",
    "    'Submit Date': [],\n",
    "    'Start Date': [],\n",
    "    'Case Status': []}"
   ]
  },
  {
   "cell_type": "code",
   "execution_count": 46,
   "metadata": {},
   "outputs": [],
   "source": [
    "companies = ['f5 networks', 'avanade', 'amazon', 'nordstrom', 'cray', 'tableau', 'zulily', 'perkins coie', 'zillow', 'trident', 'milliman', 'blue nile', 'moss adams', 'regence', 'virginia mason', 'carrix', 'safeco', 'inside inc', 'apex learning', 'trupanion']"
   ]
  },
  {
   "cell_type": "code",
   "execution_count": 47,
   "metadata": {},
   "outputs": [],
   "source": [
    "for company in companies:\n",
    "    browser.get('https://h1bdata.info/index.php?em=' + company + '&job=&city=&year=All+Years')\n",
    "    time.sleep(5)\n",
    "    trs = browser.find_elements(By.TAG_NAME, \"tr\") \n",
    "\n",
    "    for tr in trs[1:3]:\n",
    "        tds = tr.find_elements(By.TAG_NAME, \"td\")\n",
    "        for td, (k, v) in zip(tds,attributes.items()):\n",
    "            attributes[k].append(td.text)"
   ]
  },
  {
   "cell_type": "code",
   "execution_count": 48,
   "metadata": {},
   "outputs": [
    {
     "data": {
      "text/plain": [
       "{'Employer': ['APPLE INC', 'APPLET SYSTEMS LLC', 'GOOGLE LLC', 'GOOGLE LLC'],\n",
       " 'Job Title': ['(BIG) DATA ANALYTICS CAMERA ENGINEER',\n",
       "  '.NET DEVELOPER',\n",
       "  '1615.29860',\n",
       "  '1615.34491'],\n",
       " 'Base Salary': ['136,323', '60,000', '115,000', '93,000'],\n",
       " 'Location': ['CUPERTINO, CA',\n",
       "  'ROUND ROCK, TX',\n",
       "  'KIRKLAND, WA',\n",
       "  'MOUNTAIN VIEW, CA'],\n",
       " 'Submit Date': ['09/08/2017', '06/10/2015', '01/26/2018', '11/28/2017'],\n",
       " 'Start Date': ['09/25/2017', '06/10/2015', '07/25/2018', '01/22/2018'],\n",
       " 'Case Status': ['CERTIFIED', 'DENIED', 'WITHDRAWN', 'DENIED']}"
      ]
     },
     "execution_count": 48,
     "metadata": {},
     "output_type": "execute_result"
    }
   ],
   "source": [
    "attributes"
   ]
  },
  {
   "cell_type": "code",
   "execution_count": null,
   "metadata": {},
   "outputs": [],
   "source": [
    "def get_elements_from_selector(tr):\n",
    "    \n",
    "    try:\n",
    "        res = tr.find_elements(By.TAG_NAME, \"td\").text\n",
    "    except:\n",
    "        res = np.nan\n",
    "    return res"
   ]
  },
  {
   "cell_type": "code",
   "execution_count": 10,
   "metadata": {},
   "outputs": [
    {
     "ename": "NameError",
     "evalue": "name 'trs' is not defined",
     "output_type": "error",
     "traceback": [
      "\u001b[0;31m---------------------------------------------------------------------------\u001b[0m",
      "\u001b[0;31mNameError\u001b[0m                                 Traceback (most recent call last)",
      "\u001b[0;32m<ipython-input-10-304e5a40f01d>\u001b[0m in \u001b[0;36m<module>\u001b[0;34m()\u001b[0m\n\u001b[0;32m----> 1\u001b[0;31m \u001b[0mtrs\u001b[0m\u001b[0;34m\u001b[0m\u001b[0m\n\u001b[0m",
      "\u001b[0;31mNameError\u001b[0m: name 'trs' is not defined"
     ]
    }
   ],
   "source": [
    "trs"
   ]
  },
  {
   "cell_type": "code",
   "execution_count": null,
   "metadata": {},
   "outputs": [],
   "source": []
  }
 ],
 "metadata": {
  "kernelspec": {
   "display_name": "Python 3",
   "language": "python",
   "name": "python3"
  },
  "language_info": {
   "codemirror_mode": {
    "name": "ipython",
    "version": 3
   },
   "file_extension": ".py",
   "mimetype": "text/x-python",
   "name": "python",
   "nbconvert_exporter": "python",
   "pygments_lexer": "ipython3",
   "version": "3.6.5"
  }
 },
 "nbformat": 4,
 "nbformat_minor": 2
}
