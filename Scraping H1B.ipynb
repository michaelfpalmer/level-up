{
 "cells": [
  {
   "cell_type": "code",
   "execution_count": 43,
   "metadata": {},
   "outputs": [],
   "source": [
    "from selenium import webdriver\n",
    "from selenium.webdriver.common.keys import Keys\n",
    "from selenium.webdriver.common.by import By\n",
    "import time"
   ]
  },
  {
   "cell_type": "code",
   "execution_count": 58,
   "metadata": {},
   "outputs": [],
   "source": [
    "browser = webdriver.Chrome()\n",
    "options = webdriver.ChromeOptions()\n",
    "options.add_argument('headless')"
   ]
  },
  {
   "cell_type": "code",
   "execution_count": 59,
   "metadata": {},
   "outputs": [],
   "source": [
    "attributes={\n",
    "    'Employer': [],\n",
    "    'Job Title': [],\n",
    "    'Base Salary': [],\n",
    "    'Location': [],\n",
    "    'Submit Date': [],\n",
    "    'Start Date': [],\n",
    "    'Case Status': []}"
   ]
  },
  {
   "cell_type": "code",
   "execution_count": 60,
   "metadata": {},
   "outputs": [],
   "source": [
    "companies = ['f5+networks', 'avanade', 'amazon', 'nordstrom', 'cray', 'tableau', 'zulily', 'perkins+coie', 'zillow', 'trident', 'milliman', 'blue+nile', 'moss+adams', 'regence', 'virginia+mason', 'carrix', 'safeco', 'inside+inc', 'apex+learning', 'trupanion']"
   ]
  },
  {
   "cell_type": "code",
   "execution_count": null,
   "metadata": {},
   "outputs": [],
   "source": [
    "for company in companies:\n",
    "    browser.get('https://h1bdata.info/index.php?em=' + company + '&job=&city=&year=All+Years')\n",
    "    time.sleep(5)\n",
    "    trs = browser.find_elements(By.TAG_NAME, \"tr\") \n",
    "\n",
    "    for tr in trs[1:]:\n",
    "        tds = tr.find_elements(By.TAG_NAME, \"td\")\n",
    "        for td, (k, v) in zip(tds,attributes.items()):\n",
    "            attributes[k].append(td.text)"
   ]
  },
  {
   "cell_type": "code",
   "execution_count": 56,
   "metadata": {},
   "outputs": [
    {
     "data": {
      "text/plain": [
       "{'Employer': [],\n",
       " 'Job Title': [],\n",
       " 'Base Salary': [],\n",
       " 'Location': [],\n",
       " 'Submit Date': [],\n",
       " 'Start Date': [],\n",
       " 'Case Status': []}"
      ]
     },
     "execution_count": 56,
     "metadata": {},
     "output_type": "execute_result"
    }
   ],
   "source": [
    "attributes"
   ]
  },
  {
   "cell_type": "code",
   "execution_count": null,
   "metadata": {},
   "outputs": [],
   "source": [
    "def get_elements_from_selector(tr):\n",
    "    \n",
    "    try:\n",
    "        res = tr.find_elements(By.TAG_NAME, \"td\").text\n",
    "    except:\n",
    "        res = np.nan\n",
    "    return res"
   ]
  },
  {
   "cell_type": "code",
   "execution_count": 10,
   "metadata": {},
   "outputs": [
    {
     "ename": "NameError",
     "evalue": "name 'trs' is not defined",
     "output_type": "error",
     "traceback": [
      "\u001b[0;31m---------------------------------------------------------------------------\u001b[0m",
      "\u001b[0;31mNameError\u001b[0m                                 Traceback (most recent call last)",
      "\u001b[0;32m<ipython-input-10-304e5a40f01d>\u001b[0m in \u001b[0;36m<module>\u001b[0;34m()\u001b[0m\n\u001b[0;32m----> 1\u001b[0;31m \u001b[0mtrs\u001b[0m\u001b[0;34m\u001b[0m\u001b[0m\n\u001b[0m",
      "\u001b[0;31mNameError\u001b[0m: name 'trs' is not defined"
     ]
    }
   ],
   "source": [
    "trs"
   ]
  },
  {
   "cell_type": "code",
   "execution_count": null,
   "metadata": {},
   "outputs": [],
   "source": []
  }
 ],
 "metadata": {
  "kernelspec": {
   "display_name": "Python 3",
   "language": "python",
   "name": "python3"
  },
  "language_info": {
   "codemirror_mode": {
    "name": "ipython",
    "version": 3
   },
   "file_extension": ".py",
   "mimetype": "text/x-python",
   "name": "python",
   "nbconvert_exporter": "python",
   "pygments_lexer": "ipython3",
   "version": "3.6.5"
  }
 },
 "nbformat": 4,
 "nbformat_minor": 2
}
