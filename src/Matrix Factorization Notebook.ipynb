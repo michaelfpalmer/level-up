{
 "cells": [
  {
   "cell_type": "code",
   "execution_count": 35,
   "metadata": {},
   "outputs": [],
   "source": [
    "import pandas as pd\n",
    "from sklearn.feature_extraction.text import CountVectorizer\n",
    "import numpy as np\n",
    "import matplotlib.pyplot as plt\n",
    "%matplotlib inline\n"
   ]
  },
  {
   "cell_type": "code",
   "execution_count": 32,
   "metadata": {},
   "outputs": [],
   "source": [
    "dfds=pd.read_csv('/Users/michaelpalmer/galvanize/level-up/ds_30.csv', sep='|')"
   ]
  },
  {
   "cell_type": "code",
   "execution_count": 3,
   "metadata": {},
   "outputs": [],
   "source": [
    "from clean_salaries import filter_jobs_with_salaries, create_salaries_cols"
   ]
  },
  {
   "cell_type": "code",
   "execution_count": 4,
   "metadata": {},
   "outputs": [],
   "source": [
    "dfds.drop(columns='Unnamed: 0', inplace=True)"
   ]
  },
  {
   "cell_type": "code",
   "execution_count": 5,
   "metadata": {},
   "outputs": [
    {
     "data": {
      "text/html": [
       "<div>\n",
       "<style scoped>\n",
       "    .dataframe tbody tr th:only-of-type {\n",
       "        vertical-align: middle;\n",
       "    }\n",
       "\n",
       "    .dataframe tbody tr th {\n",
       "        vertical-align: top;\n",
       "    }\n",
       "\n",
       "    .dataframe thead th {\n",
       "        text-align: right;\n",
       "    }\n",
       "</style>\n",
       "<table border=\"1\" class=\"dataframe\">\n",
       "  <thead>\n",
       "    <tr style=\"text-align: right;\">\n",
       "      <th></th>\n",
       "      <th>job_title</th>\n",
       "      <th>job_description</th>\n",
       "      <th>stars</th>\n",
       "      <th>salary_range</th>\n",
       "    </tr>\n",
       "  </thead>\n",
       "  <tbody>\n",
       "    <tr>\n",
       "      <th>0</th>\n",
       "      <td>Senior Data Scientist or Data Scientist</td>\n",
       "      <td>Senior Data Scientist or Data Scientist #88345...</td>\n",
       "      <td>3.1 ★</td>\n",
       "      <td>$120K-$170K (Glassdoor Est.)</td>\n",
       "    </tr>\n",
       "    <tr>\n",
       "      <th>1</th>\n",
       "      <td>Data Scientist - Risk</td>\n",
       "      <td>Postmates runs one of the largest marketplaces...</td>\n",
       "      <td>2.9 ★</td>\n",
       "      <td>$90K-$127K (Glassdoor Est.)</td>\n",
       "    </tr>\n",
       "    <tr>\n",
       "      <th>2</th>\n",
       "      <td>Data Scientist</td>\n",
       "      <td>Data Scientist\\nAdColony is on a mission to ma...</td>\n",
       "      <td>2.2 ★</td>\n",
       "      <td>$120K-$169K (Glassdoor Est.)</td>\n",
       "    </tr>\n",
       "    <tr>\n",
       "      <th>3</th>\n",
       "      <td>Data Scientist</td>\n",
       "      <td>Smartsheet is looking for an experienced Data ...</td>\n",
       "      <td>4.6 ★</td>\n",
       "      <td>$108K-$155K (Glassdoor Est.)</td>\n",
       "    </tr>\n",
       "    <tr>\n",
       "      <th>4</th>\n",
       "      <td>Data Scientist</td>\n",
       "      <td>Data Scientist\\n\\n27-Jul-2018\\n\\nPosition Summ...</td>\n",
       "      <td>4.3 ★</td>\n",
       "      <td>$118K-$173K (Glassdoor Est.)</td>\n",
       "    </tr>\n",
       "  </tbody>\n",
       "</table>\n",
       "</div>"
      ],
      "text/plain": [
       "                                 job_title  \\\n",
       "0  Senior Data Scientist or Data Scientist   \n",
       "1                    Data Scientist - Risk   \n",
       "2                           Data Scientist   \n",
       "3                           Data Scientist   \n",
       "4                           Data Scientist   \n",
       "\n",
       "                                     job_description  stars  \\\n",
       "0  Senior Data Scientist or Data Scientist #88345...  3.1 ★   \n",
       "1  Postmates runs one of the largest marketplaces...  2.9 ★   \n",
       "2  Data Scientist\\nAdColony is on a mission to ma...  2.2 ★   \n",
       "3  Smartsheet is looking for an experienced Data ...  4.6 ★   \n",
       "4  Data Scientist\\n\\n27-Jul-2018\\n\\nPosition Summ...  4.3 ★   \n",
       "\n",
       "                   salary_range  \n",
       "0  $120K-$170K (Glassdoor Est.)  \n",
       "1   $90K-$127K (Glassdoor Est.)  \n",
       "2  $120K-$169K (Glassdoor Est.)  \n",
       "3  $108K-$155K (Glassdoor Est.)  \n",
       "4  $118K-$173K (Glassdoor Est.)  "
      ]
     },
     "execution_count": 5,
     "metadata": {},
     "output_type": "execute_result"
    }
   ],
   "source": [
    "dfds.head()"
   ]
  },
  {
   "cell_type": "code",
   "execution_count": 27,
   "metadata": {},
   "outputs": [
    {
     "name": "stderr",
     "output_type": "stream",
     "text": [
      "/Users/michaelpalmer/galvanize/level-up/src/clean_salaries.py:12: SettingWithCopyWarning: \n",
      "A value is trying to be set on a copy of a slice from a DataFrame.\n",
      "Try using .loc[row_indexer,col_indexer] = value instead\n",
      "\n",
      "See the caveats in the documentation: http://pandas.pydata.org/pandas-docs/stable/indexing.html#indexing-view-versus-copy\n",
      "  tempdf[salary_col] = tempdf[salary_col].str.lower()\n"
     ]
    }
   ],
   "source": [
    "dfclean = filter_jobs_with_salaries(dfds,'salary_range')\n",
    "dfclean = create_salaries_cols(dfclean,'salary_range')\n",
    "dfclean.reset_index(inplace=True, drop=True)"
   ]
  },
  {
   "cell_type": "code",
   "execution_count": 8,
   "metadata": {},
   "outputs": [
    {
     "data": {
      "text/html": [
       "<div>\n",
       "<style scoped>\n",
       "    .dataframe tbody tr th:only-of-type {\n",
       "        vertical-align: middle;\n",
       "    }\n",
       "\n",
       "    .dataframe tbody tr th {\n",
       "        vertical-align: top;\n",
       "    }\n",
       "\n",
       "    .dataframe thead th {\n",
       "        text-align: right;\n",
       "    }\n",
       "</style>\n",
       "<table border=\"1\" class=\"dataframe\">\n",
       "  <thead>\n",
       "    <tr style=\"text-align: right;\">\n",
       "      <th></th>\n",
       "      <th>job_title</th>\n",
       "      <th>job_description</th>\n",
       "      <th>stars</th>\n",
       "      <th>salary_lower</th>\n",
       "      <th>salary_upper</th>\n",
       "      <th>salary_estimator</th>\n",
       "    </tr>\n",
       "  </thead>\n",
       "  <tbody>\n",
       "    <tr>\n",
       "      <th>0</th>\n",
       "      <td>Senior Data Scientist or Data Scientist</td>\n",
       "      <td>Senior Data Scientist or Data Scientist #88345...</td>\n",
       "      <td>3.1 ★</td>\n",
       "      <td>120</td>\n",
       "      <td>170</td>\n",
       "      <td>(glassdoor est.)</td>\n",
       "    </tr>\n",
       "    <tr>\n",
       "      <th>1</th>\n",
       "      <td>Data Scientist - Risk</td>\n",
       "      <td>Postmates runs one of the largest marketplaces...</td>\n",
       "      <td>2.9 ★</td>\n",
       "      <td>90</td>\n",
       "      <td>127</td>\n",
       "      <td>(glassdoor est.)</td>\n",
       "    </tr>\n",
       "    <tr>\n",
       "      <th>2</th>\n",
       "      <td>Data Scientist</td>\n",
       "      <td>Data Scientist\\nAdColony is on a mission to ma...</td>\n",
       "      <td>2.2 ★</td>\n",
       "      <td>120</td>\n",
       "      <td>169</td>\n",
       "      <td>(glassdoor est.)</td>\n",
       "    </tr>\n",
       "    <tr>\n",
       "      <th>3</th>\n",
       "      <td>Data Scientist</td>\n",
       "      <td>Smartsheet is looking for an experienced Data ...</td>\n",
       "      <td>4.6 ★</td>\n",
       "      <td>108</td>\n",
       "      <td>155</td>\n",
       "      <td>(glassdoor est.)</td>\n",
       "    </tr>\n",
       "    <tr>\n",
       "      <th>4</th>\n",
       "      <td>Data Scientist</td>\n",
       "      <td>Data Scientist\\n\\n27-Jul-2018\\n\\nPosition Summ...</td>\n",
       "      <td>4.3 ★</td>\n",
       "      <td>118</td>\n",
       "      <td>173</td>\n",
       "      <td>(glassdoor est.)</td>\n",
       "    </tr>\n",
       "  </tbody>\n",
       "</table>\n",
       "</div>"
      ],
      "text/plain": [
       "                                 job_title  \\\n",
       "0  Senior Data Scientist or Data Scientist   \n",
       "1                    Data Scientist - Risk   \n",
       "2                           Data Scientist   \n",
       "3                           Data Scientist   \n",
       "4                           Data Scientist   \n",
       "\n",
       "                                     job_description  stars  salary_lower  \\\n",
       "0  Senior Data Scientist or Data Scientist #88345...  3.1 ★           120   \n",
       "1  Postmates runs one of the largest marketplaces...  2.9 ★            90   \n",
       "2  Data Scientist\\nAdColony is on a mission to ma...  2.2 ★           120   \n",
       "3  Smartsheet is looking for an experienced Data ...  4.6 ★           108   \n",
       "4  Data Scientist\\n\\n27-Jul-2018\\n\\nPosition Summ...  4.3 ★           118   \n",
       "\n",
       "   salary_upper   salary_estimator  \n",
       "0           170   (glassdoor est.)  \n",
       "1           127   (glassdoor est.)  \n",
       "2           169   (glassdoor est.)  \n",
       "3           155   (glassdoor est.)  \n",
       "4           173   (glassdoor est.)  "
      ]
     },
     "execution_count": 8,
     "metadata": {},
     "output_type": "execute_result"
    }
   ],
   "source": [
    "dfclean.head()"
   ]
  },
  {
   "cell_type": "code",
   "execution_count": 14,
   "metadata": {},
   "outputs": [],
   "source": [
    "skills_vector = ['machine learning', 'python', 'java', 'hadoop', 'spark', 'data mining', 'r', 'c++', 'hive',\n",
    "                'pig', 'sql', 'natural language processing', 'ai', 'nosql', 'image processing', 'tableau', \n",
    "                 'sas', 'matlab', 'embedded software', 'spss', 'oop', 'azure', 'javascript', 'sdlc', '.net', \n",
    "                 'perl', 'rest', 'big data', 'jenkins', 'oracle', 'management experience', 's3', 'jira', \n",
    "                 'json', 'shell scripting', 'test automation', 'clojure', 'data science', 'go', 'biotechnology',\n",
    "                 'ci', 'project management', 'excel', 'microsoft office', 'docker', 'data analysis', 'postgresql',\n",
    "                 'ruby', 'laboratory experience', 'kubernetes', 'microsoft powerpoint', 'program management',\n",
    "                 'd3.js', 'git', 'data warehouse', 'html5', 'microsoft sql server', 'hbase', 'ansible', \n",
    "                 'google cloud platform', 'unit testing', 'node.js', 'php', 'react', 'marketing', 'spring',\n",
    "                 'maven', 'signal processing', 'power bi', 'mysql', 'scripting', 'svn', 'angular', \n",
    "                 'time management', 'analysis skills', 'visual basic', 'kafka', 'molecular biology','dynamodb',\n",
    "                 'system design', 'weka', 'leadership experience', 'sentiment analytics', 'mirosoft word', 'sap',\n",
    "                 'software development', 'clinical research', 'mongodb', 'predictive analytics', \n",
    "                 'statistical analytics', 'genetics', 'cloud computing', 'visual studio', 'cassandra', \n",
    "                 'supply chain experience', 'erp systems']\n",
    "skeelz=set(skills_vector)"
   ]
  },
  {
   "cell_type": "code",
   "execution_count": 29,
   "metadata": {},
   "outputs": [],
   "source": [
    "cvec=CountVectorizer(stop_words='english', vocabulary=skeelz, token_pattern = r\"(?u)\\b\\w+\\b\")\n",
    "cvec.fit(dfclean['job_description'])\n",
    "bag_of_words=cvec.transform(dfclean['job_description'])\n",
    "sum_words = bag_of_words.sum(axis=0) \n",
    "words_freq = [(word, sum_words[0, idx]) for word, idx in     cvec.vocabulary_.items()]\n",
    "words_freq =sorted(words_freq, key = lambda x: x[1], reverse=True)\n",
    "#return words_freq[:n]"
   ]
  },
  {
   "cell_type": "code",
   "execution_count": 37,
   "metadata": {},
   "outputs": [
    {
     "data": {
      "text/plain": [
       "Text(0.5,1,'Term Frequency in Data Science Job Postings')"
      ]
     },
     "execution_count": 37,
     "metadata": {},
     "output_type": "execute_result"
    },
    {
     "data": {
      "image/png": "[encoded data removed]",
      "text/plain": [
       "<Figure size 1728x648 with 1 Axes>"
      ]
     },
     "metadata": {
      "needs_background": "light"
     },
     "output_type": "display_data"
    }
   ],
   "source": [
    "from matplotlib import rcParams\n",
    "rcParams.update({'font.size': 22})\n",
    "arr=np.array(words_freq[:20])\n",
    "X=arr[:,0]\n",
    "y=arr[:,1]\n",
    "y=y.astype(int)\n",
    "fig, ax = plt.subplots(figsize=(24,9))\n",
    "ax.bar(X,y)\n",
    "for tick in ax.get_xticklabels():\n",
    "    tick.set_rotation(90)\n",
    "ax.set_xlabel('terms')\n",
    "ax.set_ylabel('frequency')\n",
    "ax.set_title('Term Frequency in Data Science Job Postings')"
   ]
  },
  {
   "cell_type": "code",
   "execution_count": 24,
   "metadata": {},
   "outputs": [
    {
     "data": {
      "text/plain": [
       "matrix([[  0, 128,   0,   1,   2, 119,   0,   7,   0,  21,  11,   0,   2,\n",
       "           0,   0,   0,   0,   0,   0,  11,   8,   0,   0,  97,  46,  18,\n",
       "           0,   0, 203,  27, 103,   0,   0, 152,  32,   6,   3,  14,  40,\n",
       "           7,   0,   0,   0,   0, 300,  64,   4,   0,   0,   0,   0,   0,\n",
       "          17,  21,   0,   0,  64,   1,  78,  54,  10,  46,  10,   0,   0,\n",
       "           0,   0, 407, 305,   8,  20,  29,  52,  81,  76, 114,   8,   0,\n",
       "           0,   0,   0, 181,   3,  19, 425,   0,   0,   4,   0, 149,   0,\n",
       "           0,   0,   0,   0,   7]], dtype=int64)"
      ]
     },
     "execution_count": 24,
     "metadata": {},
     "output_type": "execute_result"
    }
   ],
   "source": [
    "sum_words"
   ]
  },
  {
   "cell_type": "code",
   "execution_count": 38,
   "metadata": {},
   "outputs": [],
   "source": [
    "from sklearn.decomposition import NMF"
   ]
  },
  {
   "cell_type": "code",
   "execution_count": 141,
   "metadata": {},
   "outputs": [],
   "source": [
    "X = np.array([[1, 0], [2, 0], [3, 1.2], [4, 0], [5, 0.8], [6, 1]])\n",
    "model = NMF(n_components=2, init='nndsvda', random_state=0)\n",
    "W = model.fit_transform(X)\n",
    "H = model.components_"
   ]
  },
  {
   "cell_type": "code",
   "execution_count": 142,
   "metadata": {},
   "outputs": [
    {
     "data": {
      "text/plain": [
       "array([[0.        , 0.3560461 ],\n",
       "       [0.        , 0.71209221],\n",
       "       [1.58441811, 0.        ],\n",
       "       [0.        , 1.42418441],\n",
       "       [1.05867752, 1.06637886],\n",
       "       [1.32341029, 1.2439193 ]])"
      ]
     },
     "execution_count": 142,
     "metadata": {},
     "output_type": "execute_result"
    }
   ],
   "source": [
    "W"
   ]
  },
  {
   "cell_type": "code",
   "execution_count": 143,
   "metadata": {},
   "outputs": [
    {
     "data": {
      "text/plain": [
       "array([[1. , 0. ],\n",
       "       [2. , 0. ],\n",
       "       [3. , 1.2],\n",
       "       [4. , 0. ],\n",
       "       [5. , 0.8],\n",
       "       [6. , 1. ]])"
      ]
     },
     "execution_count": 143,
     "metadata": {},
     "output_type": "execute_result"
    }
   ],
   "source": [
    "X"
   ]
  },
  {
   "cell_type": "code",
   "execution_count": null,
   "metadata": {},
   "outputs": [],
   "source": []
  },
  {
   "cell_type": "code",
   "execution_count": 144,
   "metadata": {},
   "outputs": [
    {
     "data": {
      "text/plain": [
       "array([[1.00003254, 0.        ],\n",
       "       [2.00006508, 0.        ],\n",
       "       [3.0003192 , 1.19853046],\n",
       "       [4.00013016, 0.        ],\n",
       "       [4.99991105, 0.80083485],\n",
       "       [5.99988066, 1.00109152]])"
      ]
     },
     "execution_count": 144,
     "metadata": {},
     "output_type": "execute_result"
    }
   ],
   "source": [
    "W@H"
   ]
  },
  {
   "cell_type": "code",
   "execution_count": 139,
   "metadata": {},
   "outputs": [
    {
     "data": {
      "text/plain": [
       "array([[9.99992404e-01, 8.58917065e-05],\n",
       "       [1.99998481e+00, 1.71783413e-04],\n",
       "       [2.99989897e+00, 1.20017866e+00],\n",
       "       [3.99996962e+00, 3.43566826e-04],\n",
       "       [5.00006454e+00, 7.99885874e-01],\n",
       "       [6.00006968e+00, 9.99876778e-01]])"
      ]
     },
     "execution_count": 139,
     "metadata": {},
     "output_type": "execute_result"
    }
   ],
   "source": [
    "model.inverse_transform(W)"
   ]
  },
  {
   "cell_type": "code",
   "execution_count": 25,
   "metadata": {},
   "outputs": [],
   "source": [
    "count_vect_df = pd.DataFrame(bag_of_words.todense(), columns=cvec.get_feature_names())"
   ]
  },
  {
   "cell_type": "code",
   "execution_count": 67,
   "metadata": {},
   "outputs": [],
   "source": [
    "bigdf = pd.concat([dfclean, count_vect_df], axis=1)"
   ]
  },
  {
   "cell_type": "code",
   "execution_count": 59,
   "metadata": {},
   "outputs": [],
   "source": [
    "cols = ['.net', 'ai']"
   ]
  },
  {
   "cell_type": "code",
   "execution_count": 68,
   "metadata": {},
   "outputs": [],
   "source": [
    "cols = cvec.get_feature_names()"
   ]
  },
  {
   "cell_type": "code",
   "execution_count": 66,
   "metadata": {},
   "outputs": [
    {
     "data": {
      "text/plain": [
       "Index(['job_title', 'job_description', 'stars', 'salary_lower', 'salary_upper',\n",
       "       'salary_estimator'],\n",
       "      dtype='object')"
      ]
     },
     "execution_count": 66,
     "metadata": {},
     "output_type": "execute_result"
    }
   ],
   "source": [
    "dfclean.columns"
   ]
  },
  {
   "cell_type": "code",
   "execution_count": 219,
   "metadata": {},
   "outputs": [],
   "source": [
    "X = bigdf[cols]"
   ]
  },
  {
   "cell_type": "code",
   "execution_count": null,
   "metadata": {},
   "outputs": [],
   "source": []
  },
  {
   "cell_type": "code",
   "execution_count": 181,
   "metadata": {},
   "outputs": [],
   "source": [
    "n=len(cols)\n",
    "#init methods ‘random’ | ‘nndsvd’ | ‘nndsvda’ | ‘nndsvdar’ | ‘custom’\n",
    "model = NMF(init='nndsvd', random_state=0)\n",
    "W = model.fit_transform(X)\n",
    "H = model.components_"
   ]
  },
  {
   "cell_type": "code",
   "execution_count": 182,
   "metadata": {},
   "outputs": [
    {
     "data": {
      "text/plain": [
       "array([  0, 128,   0,   1,   2, 119,   0,   7,   0,  21,  11,   0,   2,\n",
       "         0,   0,   0,   0,   0,   0,  11,   8,   0,   0,  97,  46,  18,\n",
       "         0,   0, 203,  27, 103,   0,   0, 152,  32,   6,   3,  14,  40,\n",
       "         7,   0,   0,   0,   0, 300,  64,   4,   0,   0,   0,   0,   0,\n",
       "        17,  21,   0,   0,  64,   1,  78,  54,  10,  46,  10,   0,   0,\n",
       "         0,   0, 407, 305,   8,  20,  29,  52,  81,  76, 114,   8,   0,\n",
       "         0,   0,   0, 181,   3,  19, 425,   0,   0,   4,   0, 149,   0,\n",
       "         0,   0,   0,   0,   7])"
      ]
     },
     "execution_count": 182,
     "metadata": {},
     "output_type": "execute_result"
    }
   ],
   "source": [
    "np.array(X.sum(axis=0))"
   ]
  },
  {
   "cell_type": "code",
   "execution_count": 183,
   "metadata": {},
   "outputs": [
    {
     "data": {
      "text/plain": [
       "array([  0.        , 128.00000725,   0.        ,   3.46132143,\n",
       "         2.82107735, 119.01657855,   0.        ,   7.00016308,\n",
       "         0.        ,  21.02378037,  11.00682282,   0.        ,\n",
       "         1.69449251,   0.        ,   0.        ,   0.        ,\n",
       "         0.        ,   0.        ,   0.        ,  11.87235652,\n",
       "         8.09393648,   0.        ,   0.        ,  97.02093092,\n",
       "        46.03995255,  18.17068267,   0.        ,   0.        ,\n",
       "       203.02066044,  27.03946239, 103.00309655,   0.        ,\n",
       "         0.        , 152.00194173,  32.10815338,   6.6890008 ,\n",
       "         7.59443476,  14.00045269,  40.00037532,   8.60982175,\n",
       "         0.        ,   0.        ,   0.        ,   0.        ,\n",
       "       300.00120419,  64.02754124,   5.70160456,   0.        ,\n",
       "         0.        ,   0.        ,   0.        ,   0.        ,\n",
       "        17.01654227,  21.15674089,   0.        ,   0.        ,\n",
       "        64.00396729,   2.59192662,  78.00007022,  54.00664419,\n",
       "        10.00008365,  46.00024615,  10.00005661,   0.        ,\n",
       "         0.        ,   0.        ,   0.        , 407.17086275,\n",
       "       305.00287948,   8.0217319 ,  20.17861685,  29.00017763,\n",
       "        52.00452164,  81.00005775,  76.00000127, 114.04076874,\n",
       "         8.51605422,   0.        ,   0.        ,   0.        ,\n",
       "         0.        , 181.0076609 ,   3.45302976,  19.08625195,\n",
       "       425.17420768,   0.        ,   0.        ,   4.08553386,\n",
       "         0.        , 149.00154538,   0.        ,   0.        ,\n",
       "         0.        ,   0.        ,   0.        ,   7.0006807 ])"
      ]
     },
     "execution_count": 183,
     "metadata": {},
     "output_type": "execute_result"
    }
   ],
   "source": [
    "(W@H).sum(axis=0)"
   ]
  },
  {
   "cell_type": "code",
   "execution_count": 77,
   "metadata": {},
   "outputs": [],
   "source": [
    "from sklearn.ensemble import RandomForestRegressor"
   ]
  },
  {
   "cell_type": "code",
   "execution_count": 88,
   "metadata": {},
   "outputs": [
    {
     "name": "stderr",
     "output_type": "stream",
     "text": [
      "/Users/michaelpalmer/anaconda/lib/python3.5/site-packages/ipykernel_launcher.py:1: FutureWarning: 'argmax' is deprecated, use 'idxmax' instead. The behavior of 'argmax'\n",
      "will be corrected to return the positional maximum in the future.\n",
      "Use 'series.values.argmax' to get the position of the maximum now.\n",
      "  \"\"\"Entry point for launching an IPython kernel.\n"
     ]
    },
    {
     "data": {
      "text/plain": [
       "'excel'"
      ]
     },
     "execution_count": 88,
     "metadata": {},
     "output_type": "execute_result"
    }
   ],
   "source": [
    "X.iloc[0,:].argmax()"
   ]
  },
  {
   "cell_type": "code",
   "execution_count": 114,
   "metadata": {},
   "outputs": [
    {
     "data": {
      "text/plain": [
       "56644"
      ]
     },
     "execution_count": 114,
     "metadata": {},
     "output_type": "execute_result"
    }
   ],
   "source": [
    "W.argmax()"
   ]
  },
  {
   "cell_type": "code",
   "execution_count": 116,
   "metadata": {},
   "outputs": [
    {
     "data": {
      "text/plain": [
       "(590, 4)"
      ]
     },
     "execution_count": 116,
     "metadata": {},
     "output_type": "execute_result"
    }
   ],
   "source": [
    "np.unravel_index(W.argmax(),W.shape)"
   ]
  },
  {
   "cell_type": "code",
   "execution_count": 104,
   "metadata": {},
   "outputs": [
    {
     "data": {
      "text/plain": [
       "23"
      ]
     },
     "execution_count": 104,
     "metadata": {},
     "output_type": "execute_result"
    }
   ],
   "source": [
    "X.columns.get_loc(\"excel\")"
   ]
  },
  {
   "cell_type": "code",
   "execution_count": 98,
   "metadata": {},
   "outputs": [
    {
     "ename": "AttributeError",
     "evalue": "'DataFrame' object has no attribute 'get_loc'",
     "output_type": "error",
     "traceback": [
      "\u001b[0;31m---------------------------------------------------------------------------\u001b[0m",
      "\u001b[0;31mAttributeError\u001b[0m                            Traceback (most recent call last)",
      "\u001b[0;32m<ipython-input-98-94d72eb96ea1>\u001b[0m in \u001b[0;36m<module>\u001b[0;34m()\u001b[0m\n\u001b[0;32m----> 1\u001b[0;31m \u001b[0mX\u001b[0m\u001b[0;34m.\u001b[0m\u001b[0mget_loc\u001b[0m\u001b[0;34m(\u001b[0m\u001b[0;34m)\u001b[0m\u001b[0;34m\u001b[0m\u001b[0m\n\u001b[0m",
      "\u001b[0;32m~/anaconda/lib/python3.5/site-packages/pandas/core/generic.py\u001b[0m in \u001b[0;36m__getattr__\u001b[0;34m(self, name)\u001b[0m\n\u001b[1;32m   4374\u001b[0m             \u001b[0;32mif\u001b[0m \u001b[0mself\u001b[0m\u001b[0;34m.\u001b[0m\u001b[0m_info_axis\u001b[0m\u001b[0;34m.\u001b[0m\u001b[0m_can_hold_identifiers_and_holds_name\u001b[0m\u001b[0;34m(\u001b[0m\u001b[0mname\u001b[0m\u001b[0;34m)\u001b[0m\u001b[0;34m:\u001b[0m\u001b[0;34m\u001b[0m\u001b[0m\n\u001b[1;32m   4375\u001b[0m                 \u001b[0;32mreturn\u001b[0m \u001b[0mself\u001b[0m\u001b[0;34m[\u001b[0m\u001b[0mname\u001b[0m\u001b[0;34m]\u001b[0m\u001b[0;34m\u001b[0m\u001b[0m\n\u001b[0;32m-> 4376\u001b[0;31m             \u001b[0;32mreturn\u001b[0m \u001b[0mobject\u001b[0m\u001b[0;34m.\u001b[0m\u001b[0m__getattribute__\u001b[0m\u001b[0;34m(\u001b[0m\u001b[0mself\u001b[0m\u001b[0;34m,\u001b[0m \u001b[0mname\u001b[0m\u001b[0;34m)\u001b[0m\u001b[0;34m\u001b[0m\u001b[0m\n\u001b[0m\u001b[1;32m   4377\u001b[0m \u001b[0;34m\u001b[0m\u001b[0m\n\u001b[1;32m   4378\u001b[0m     \u001b[0;32mdef\u001b[0m \u001b[0m__setattr__\u001b[0m\u001b[0;34m(\u001b[0m\u001b[0mself\u001b[0m\u001b[0;34m,\u001b[0m \u001b[0mname\u001b[0m\u001b[0;34m,\u001b[0m \u001b[0mvalue\u001b[0m\u001b[0;34m)\u001b[0m\u001b[0;34m:\u001b[0m\u001b[0;34m\u001b[0m\u001b[0m\n",
      "\u001b[0;31mAttributeError\u001b[0m: 'DataFrame' object has no attribute 'get_loc'"
     ]
    }
   ],
   "source": [
    "X.get_loc()"
   ]
  },
  {
   "cell_type": "code",
   "execution_count": 72,
   "metadata": {},
   "outputs": [
    {
     "data": {
      "text/plain": [
       "array([0.00000000e+00, 4.61613218e-18, 0.00000000e+00, 0.00000000e+00,\n",
       "       0.00000000e+00, 0.00000000e+00, 0.00000000e+00, 5.73248108e-24,\n",
       "       0.00000000e+00, 0.00000000e+00, 0.00000000e+00, 0.00000000e+00,\n",
       "       0.00000000e+00, 0.00000000e+00, 0.00000000e+00, 0.00000000e+00,\n",
       "       0.00000000e+00, 0.00000000e+00, 0.00000000e+00, 0.00000000e+00,\n",
       "       0.00000000e+00, 0.00000000e+00, 0.00000000e+00, 9.99999700e-01,\n",
       "       5.22910748e-11, 0.00000000e+00, 0.00000000e+00, 0.00000000e+00,\n",
       "       4.60278934e-10, 0.00000000e+00, 6.02409271e-10, 0.00000000e+00,\n",
       "       0.00000000e+00, 0.00000000e+00, 7.65069564e-07, 0.00000000e+00,\n",
       "       4.22104746e-07, 7.18024301e-08, 2.27214086e-20, 0.00000000e+00,\n",
       "       0.00000000e+00, 0.00000000e+00, 0.00000000e+00, 0.00000000e+00,\n",
       "       5.68049126e-06, 1.00754438e-14, 0.00000000e+00, 0.00000000e+00,\n",
       "       0.00000000e+00, 0.00000000e+00, 0.00000000e+00, 0.00000000e+00,\n",
       "       0.00000000e+00, 0.00000000e+00, 0.00000000e+00, 0.00000000e+00,\n",
       "       0.00000000e+00, 0.00000000e+00, 3.64329928e-06, 5.80593335e-08,\n",
       "       0.00000000e+00, 3.61168219e-07, 0.00000000e+00, 0.00000000e+00,\n",
       "       0.00000000e+00, 0.00000000e+00, 0.00000000e+00, 0.00000000e+00,\n",
       "       0.00000000e+00, 0.00000000e+00, 0.00000000e+00, 0.00000000e+00,\n",
       "       3.79513825e-08, 0.00000000e+00, 0.00000000e+00, 0.00000000e+00,\n",
       "       0.00000000e+00, 0.00000000e+00, 0.00000000e+00, 0.00000000e+00,\n",
       "       0.00000000e+00, 0.00000000e+00, 0.00000000e+00, 1.26257122e-07,\n",
       "       1.91868225e-03, 0.00000000e+00, 0.00000000e+00, 5.35826922e-15,\n",
       "       0.00000000e+00, 1.27754938e-05, 0.00000000e+00, 0.00000000e+00,\n",
       "       0.00000000e+00, 0.00000000e+00, 0.00000000e+00, 0.00000000e+00])"
      ]
     },
     "execution_count": 72,
     "metadata": {},
     "output_type": "execute_result"
    }
   ],
   "source": [
    "model.inverse_transform(W)[0]"
   ]
  },
  {
   "cell_type": "markdown",
   "metadata": {},
   "source": [
    "### Use Singular Value Decomposition to fill in zero values"
   ]
  },
  {
   "cell_type": "code",
   "execution_count": 197,
   "metadata": {},
   "outputs": [],
   "source": [
    "from numpy.linalg import svd, eig"
   ]
  },
  {
   "cell_type": "code",
   "execution_count": 220,
   "metadata": {},
   "outputs": [],
   "source": [
    "U, sigma, VT = svd(X)"
   ]
  },
  {
   "cell_type": "code",
   "execution_count": 278,
   "metadata": {},
   "outputs": [],
   "source": [
    "sigma_reduced = np.zeros(X.shape)\n",
    "np.fill_diagonal(sigma_reduced,sigma)\n",
    "#20 latent features\n",
    "sigma_reduced[:,20:] = 0\n",
    "\n",
    "#Reconstruct ratings matrix\n",
    "ratings_reconstructed = np.dot(np.dot(U,sigma_reduced),VT)\n"
   ]
  },
  {
   "cell_type": "code",
   "execution_count": 234,
   "metadata": {},
   "outputs": [
    {
     "data": {
      "text/plain": [
       "array([ 8.69125441e-16,  1.27719690e+02, -9.26220448e-15,  7.67544045e-01,\n",
       "        9.51395567e-01,  1.19051074e+02,  2.45145312e-14,  3.17480762e+00,\n",
       "       -1.57467446e-14,  2.14141040e+01,  1.25328556e+01,  4.15301215e-15,\n",
       "        8.23253115e-01, -6.75418431e-16, -6.67259852e-15,  2.66340565e-15,\n",
       "       -1.68728363e-15,  1.92751668e-15, -6.09321488e-15,  7.22226674e+00,\n",
       "        5.37558594e+00, -1.77144032e-15,  6.26557194e-15,  9.59126674e+01,\n",
       "        4.75328917e+01,  1.44919231e+01, -1.10416767e-15,  9.09270404e-17,\n",
       "        2.02319727e+02,  2.60125782e+01,  1.03866119e+02,  2.81731703e-16,\n",
       "        1.31215341e-17,  1.51024678e+02,  3.63120275e+01,  6.83453633e+00,\n",
       "        4.05250399e+00,  1.50537538e+01,  3.85217828e+01,  4.83183890e+00,\n",
       "        1.49435560e-22,  3.94446950e-25, -5.59504141e-25, -3.12221912e-30,\n",
       "        3.00162123e+02,  5.42385278e+01,  2.58748637e+00,  1.33182364e-30,\n",
       "       -5.84151717e-31,  9.13067346e-33, -5.13326832e-32, -7.97856878e-33,\n",
       "        2.01853370e+01,  2.02050064e+01,  0.00000000e+00,  0.00000000e+00,\n",
       "        6.50177569e+01,  2.04380718e-01,  7.67870529e+01,  5.95087548e+01,\n",
       "        8.94061786e+00,  5.04699107e+01,  1.00294599e+01,  0.00000000e+00,\n",
       "        0.00000000e+00,  0.00000000e+00,  0.00000000e+00,  4.07048242e+02,\n",
       "        3.05066149e+02,  5.63869244e+00,  1.45893452e+01,  3.63174197e+01,\n",
       "        5.10736410e+01,  8.10746757e+01,  8.04569367e+01,  1.11635202e+02,\n",
       "        4.52906257e+00,  0.00000000e+00,  0.00000000e+00,  0.00000000e+00,\n",
       "        0.00000000e+00,  1.82357463e+02,  9.32309273e-01,  1.80030989e+01,\n",
       "        4.24359286e+02,  0.00000000e+00,  0.00000000e+00,  3.79819692e+00,\n",
       "        0.00000000e+00,  1.48716896e+02,  0.00000000e+00,  0.00000000e+00,\n",
       "        0.00000000e+00,  0.00000000e+00,  0.00000000e+00,  7.07191253e+00])"
      ]
     },
     "execution_count": 234,
     "metadata": {},
     "output_type": "execute_result"
    }
   ],
   "source": [
    "ratings_reconstructed"
   ]
  },
  {
   "cell_type": "code",
   "execution_count": 237,
   "metadata": {},
   "outputs": [],
   "source": [
    "y=dfclean['salary_upper']"
   ]
  },
  {
   "cell_type": "code",
   "execution_count": 238,
   "metadata": {},
   "outputs": [],
   "source": [
    "from sklearn.ensemble import RandomForestRegressor"
   ]
  },
  {
   "cell_type": "code",
   "execution_count": 239,
   "metadata": {},
   "outputs": [],
   "source": [
    "regr = RandomForestRegressor(n_estimators=1000)"
   ]
  },
  {
   "cell_type": "code",
   "execution_count": 241,
   "metadata": {},
   "outputs": [],
   "source": [
    "from sklearn.model_selection import KFold"
   ]
  },
  {
   "cell_type": "code",
   "execution_count": 242,
   "metadata": {},
   "outputs": [],
   "source": [
    "kf = KFold(n_splits=10, shuffle=False, random_state=None)"
   ]
  },
  {
   "cell_type": "code",
   "execution_count": 259,
   "metadata": {},
   "outputs": [],
   "source": [
    "X_arr = X.values\n",
    "y_arr = y.values"
   ]
  },
  {
   "cell_type": "code",
   "execution_count": 256,
   "metadata": {},
   "outputs": [
    {
     "data": {
      "text/plain": [
       "<generator object _BaseKFold.split at 0x10d0be4c0>"
      ]
     },
     "execution_count": 256,
     "metadata": {},
     "output_type": "execute_result"
    }
   ],
   "source": [
    "kf.split(X_arr)"
   ]
  },
  {
   "cell_type": "code",
   "execution_count": 266,
   "metadata": {},
   "outputs": [],
   "source": [
    "from sklearn.metrics import accuracy_score\n",
    "from sklearn.metrics import mean_squared_error"
   ]
  },
  {
   "cell_type": "code",
   "execution_count": 275,
   "metadata": {},
   "outputs": [],
   "source": [
    "errors_test=[]\n",
    "errors_train=[]\n",
    "for train_index, test_index in kf.split(X_arr):\n",
    "    X_train, X_test = X_arr[train_index], X_arr[test_index]\n",
    "    y_train, y_test = y_arr[train_index], y_arr[test_index]\n",
    "    regr.fit(X_train,y_train)\n",
    "    y_pred = regr.predict(X_test)\n",
    "    y_train_pred = regr.predict(X_train)\n",
    "    rms_test = np.sqrt(mean_squared_error(y_test, y_pred))\n",
    "    rms_train = np.sqrt(mean_squared_error(y_train, y_train_pred))\n",
    "    errors_test.append(rms_test)\n",
    "    errors_train.append(rms_train)"
   ]
  },
  {
   "cell_type": "code",
   "execution_count": 284,
   "metadata": {},
   "outputs": [
    {
     "name": "stderr",
     "output_type": "stream",
     "text": [
      "No handles with labels found to put in legend.\n"
     ]
    },
    {
     "data": {
      "text/plain": [
       "<matplotlib.legend.Legend at 0x10e184c50>"
      ]
     },
     "execution_count": 284,
     "metadata": {},
     "output_type": "execute_result"
    },
    {
     "data": {
      "image/png": "[encoded data removed]",
      "text/plain": [
       "<Figure size 576x432 with 1 Axes>"
      ]
     },
     "metadata": {
      "needs_background": "light"
     },
     "output_type": "display_data"
    }
   ],
   "source": [
    "fig, ax = plt.subplots(figsize=(8,6))\n",
    "ax.plot(errors_test)\n",
    "ax.plot(errors_train)\n",
    "ax.set_xlabel('fold')\n",
    "ax.set_ylabel('rmse')\n",
    "ax.set_title('Test and Train Error')\n",
    "ax.legend(loc='best')"
   ]
  },
  {
   "cell_type": "code",
   "execution_count": null,
   "metadata": {},
   "outputs": [],
   "source": []
  }
 ],
 "metadata": {
  "kernelspec": {
   "display_name": "Python 3",
   "language": "python",
   "name": "python3"
  },
  "language_info": {
   "codemirror_mode": {
    "name": "ipython",
    "version": 3
   },
   "file_extension": ".py",
   "mimetype": "text/x-python",
   "name": "python",
   "nbconvert_exporter": "python",
   "pygments_lexer": "ipython3",
   "version": "3.5.5"
  }
 },
 "nbformat": 4,
 "nbformat_minor": 2
}
